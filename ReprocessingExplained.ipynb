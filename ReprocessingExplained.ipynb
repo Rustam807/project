{
 "cells": [
  {
   "cell_type": "markdown",
   "metadata": {},
   "source": [
    "Observing the Data\n",
    "\n",
    "To do the reprocessing, we first have to take a brief look on our data.\n",
    "\n",
    "We are now looking for a. unneeded columns, b. missing values, c. duplicates"
   ]
  },
  {
   "cell_type": "code",
   "execution_count": 112,
   "metadata": {},
   "outputs": [
    {
     "name": "stdout",
     "output_type": "stream",
     "text": [
      "<class 'pandas.core.frame.DataFrame'>\n",
      "RangeIndex: 10000 entries, 0 to 9999\n",
      "Data columns (total 13 columns):\n",
      " #   Column          Non-Null Count  Dtype  \n",
      "---  ------          --------------  -----  \n",
      " 0   price           10000 non-null  int64  \n",
      " 1   m2_price        10000 non-null  int64  \n",
      " 2   square          10000 non-null  int64  \n",
      " 3   rooms           10000 non-null  object \n",
      " 4   district        9990 non-null   object \n",
      " 5   micro_district  9543 non-null   object \n",
      " 6   building_type   10000 non-null  object \n",
      " 7   floor           10000 non-null  int64  \n",
      " 8   floors          10000 non-null  int64  \n",
      " 9   year            5631 non-null   float64\n",
      " 10  date            10000 non-null  object \n",
      " 11  source          10000 non-null  object \n",
      " 12  condition       7081 non-null   object \n",
      "dtypes: float64(1), int64(5), object(7)\n",
      "memory usage: 1015.8+ KB\n"
     ]
    }
   ],
   "source": [
    "import numpy as np\n",
    "import pandas as pd\n",
    "\n",
    "data = pd.read_csv(\"E:/git/project/.venv/house_kg_10K_ads.csv\")\n",
    "data.info()"
   ]
  },
  {
   "cell_type": "markdown",
   "metadata": {},
   "source": [
    "For the purpose of price predicting, some of the columns need to be removed from the dataset.\n",
    "\n",
    "Yet they might do an impact to the price of the house, their overall influence to the dataset seems to be quite low, so it's not critical to get rid of them in order to make the program simple.\n",
    "\n",
    "These columns are:\n",
    "4. district, 5. micro_district, 6. building_type, as the influence of the house location and the material it was built of are already represented in the 1. m2_price.\n",
    "\n",
    "9. year, as most of the houses provided in the dataset were built in the period from 2010 to 2022 and these difference does not influence the price much; also there are a lot of missing values in this column and it's quite problematic to solve this issue by simple imputation.\n",
    "\n",
    "10. date and 11. source, as the date of the ad and the site at which it's placed are the irrelevant data for the purposes of our project."
   ]
  },
  {
   "cell_type": "code",
   "execution_count": 113,
   "metadata": {},
   "outputs": [
    {
     "data": {
      "text/html": [
       "<div>\n",
       "<style scoped>\n",
       "    .dataframe tbody tr th:only-of-type {\n",
       "        vertical-align: middle;\n",
       "    }\n",
       "\n",
       "    .dataframe tbody tr th {\n",
       "        vertical-align: top;\n",
       "    }\n",
       "\n",
       "    .dataframe thead th {\n",
       "        text-align: right;\n",
       "    }\n",
       "</style>\n",
       "<table border=\"1\" class=\"dataframe\">\n",
       "  <thead>\n",
       "    <tr style=\"text-align: right;\">\n",
       "      <th></th>\n",
       "      <th>price</th>\n",
       "      <th>m2_price</th>\n",
       "      <th>square</th>\n",
       "      <th>rooms</th>\n",
       "      <th>floor</th>\n",
       "      <th>floors</th>\n",
       "      <th>condition</th>\n",
       "    </tr>\n",
       "  </thead>\n",
       "  <tbody>\n",
       "    <tr>\n",
       "      <th>0</th>\n",
       "      <td>110880</td>\n",
       "      <td>720</td>\n",
       "      <td>154</td>\n",
       "      <td>4</td>\n",
       "      <td>12</td>\n",
       "      <td>14</td>\n",
       "      <td>под самоотделку (ПСО)</td>\n",
       "    </tr>\n",
       "    <tr>\n",
       "      <th>1</th>\n",
       "      <td>57000</td>\n",
       "      <td>740</td>\n",
       "      <td>77</td>\n",
       "      <td>2</td>\n",
       "      <td>5</td>\n",
       "      <td>12</td>\n",
       "      <td>под самоотделку (ПСО)</td>\n",
       "    </tr>\n",
       "    <tr>\n",
       "      <th>2</th>\n",
       "      <td>57750</td>\n",
       "      <td>750</td>\n",
       "      <td>77</td>\n",
       "      <td>2</td>\n",
       "      <td>5</td>\n",
       "      <td>12</td>\n",
       "      <td>под самоотделку (ПСО)</td>\n",
       "    </tr>\n",
       "    <tr>\n",
       "      <th>3</th>\n",
       "      <td>57000</td>\n",
       "      <td>740</td>\n",
       "      <td>77</td>\n",
       "      <td>2</td>\n",
       "      <td>5</td>\n",
       "      <td>12</td>\n",
       "      <td>под самоотделку (ПСО)</td>\n",
       "    </tr>\n",
       "    <tr>\n",
       "      <th>4</th>\n",
       "      <td>55000</td>\n",
       "      <td>1279</td>\n",
       "      <td>43</td>\n",
       "      <td>1</td>\n",
       "      <td>1</td>\n",
       "      <td>12</td>\n",
       "      <td>хорошее</td>\n",
       "    </tr>\n",
       "  </tbody>\n",
       "</table>\n",
       "</div>"
      ],
      "text/plain": [
       "    price  m2_price  square rooms  floor  floors              condition\n",
       "0  110880       720     154     4     12      14  под самоотделку (ПСО)\n",
       "1   57000       740      77     2      5      12  под самоотделку (ПСО)\n",
       "2   57750       750      77     2      5      12  под самоотделку (ПСО)\n",
       "3   57000       740      77     2      5      12  под самоотделку (ПСО)\n",
       "4   55000      1279      43     1      1      12                хорошее"
      ]
     },
     "execution_count": 113,
     "metadata": {},
     "output_type": "execute_result"
    }
   ],
   "source": [
    "data.drop([\"district\", \"micro_district\", \"building_type\", \"year\", \"date\", \"source\"], axis = 1, inplace = True)\n",
    "data.head()"
   ]
  },
  {
   "cell_type": "markdown",
   "metadata": {},
   "source": [
    "It's done with columns. Now we can deal with missing values and duplicates.\n"
   ]
  },
  {
   "cell_type": "code",
   "execution_count": 114,
   "metadata": {},
   "outputs": [
    {
     "data": {
      "text/plain": [
       "price           0\n",
       "m2_price        0\n",
       "square          0\n",
       "rooms           0\n",
       "floor           0\n",
       "floors          0\n",
       "condition    2919\n",
       "dtype: int64"
      ]
     },
     "execution_count": 114,
     "metadata": {},
     "output_type": "execute_result"
    }
   ],
   "source": [
    "data.isna().sum()"
   ]
  },
  {
   "cell_type": "markdown",
   "metadata": {},
   "source": [
    "There are no missing data in all the columns except the last one, which tell us the condition of the house. As this data is categorical, we'll deal with it later.\n",
    "\n",
    "Now we drop all duplicates."
   ]
  },
  {
   "cell_type": "code",
   "execution_count": 115,
   "metadata": {},
   "outputs": [],
   "source": [
    "data.drop_duplicates(inplace = True)"
   ]
  },
  {
   "cell_type": "markdown",
   "metadata": {},
   "source": [
    "Back to the categorical data. The only column that includes it is «condition».\n",
    "\n",
    "We have to encode it. As the categories in this column can be easily ordered, we use Ordinal Encoding method. We set a correspondance between each category and some integer. The more the integer is, the better the condition of the house.\n",
    "\n",
    "So, excluding missing data, we've got 8 categories.\n",
    "\n",
    "1. «repair required», \n",
    "2. «not built yet», \n",
    "3. «rough finish», \n",
    "4. «free-pattern layout». \n",
    "\n",
    "We're going to drop the rows with this categories above as they are outliers and represent only 3% of dataset.\n",
    "\n",
    "5. «average». This condition corresponds to number 1.\n",
    "6. «good» — 2\n",
    "7. «self-finishing» — 3\n",
    "8. «euro-repair» — 4"
   ]
  },
  {
   "cell_type": "code",
   "execution_count": 116,
   "metadata": {},
   "outputs": [
    {
     "data": {
      "text/html": [
       "<div>\n",
       "<style scoped>\n",
       "    .dataframe tbody tr th:only-of-type {\n",
       "        vertical-align: middle;\n",
       "    }\n",
       "\n",
       "    .dataframe tbody tr th {\n",
       "        vertical-align: top;\n",
       "    }\n",
       "\n",
       "    .dataframe thead th {\n",
       "        text-align: right;\n",
       "    }\n",
       "</style>\n",
       "<table border=\"1\" class=\"dataframe\">\n",
       "  <thead>\n",
       "    <tr style=\"text-align: right;\">\n",
       "      <th></th>\n",
       "      <th>price</th>\n",
       "      <th>m2_price</th>\n",
       "      <th>square</th>\n",
       "      <th>rooms</th>\n",
       "      <th>floor</th>\n",
       "      <th>floors</th>\n",
       "      <th>condition</th>\n",
       "      <th>condition_encoded</th>\n",
       "    </tr>\n",
       "  </thead>\n",
       "  <tbody>\n",
       "    <tr>\n",
       "      <th>0</th>\n",
       "      <td>110880</td>\n",
       "      <td>720</td>\n",
       "      <td>154</td>\n",
       "      <td>4</td>\n",
       "      <td>12</td>\n",
       "      <td>14</td>\n",
       "      <td>под самоотделку (ПСО)</td>\n",
       "      <td>3.0</td>\n",
       "    </tr>\n",
       "    <tr>\n",
       "      <th>1</th>\n",
       "      <td>57000</td>\n",
       "      <td>740</td>\n",
       "      <td>77</td>\n",
       "      <td>2</td>\n",
       "      <td>5</td>\n",
       "      <td>12</td>\n",
       "      <td>под самоотделку (ПСО)</td>\n",
       "      <td>3.0</td>\n",
       "    </tr>\n",
       "    <tr>\n",
       "      <th>2</th>\n",
       "      <td>57750</td>\n",
       "      <td>750</td>\n",
       "      <td>77</td>\n",
       "      <td>2</td>\n",
       "      <td>5</td>\n",
       "      <td>12</td>\n",
       "      <td>под самоотделку (ПСО)</td>\n",
       "      <td>3.0</td>\n",
       "    </tr>\n",
       "    <tr>\n",
       "      <th>4</th>\n",
       "      <td>55000</td>\n",
       "      <td>1279</td>\n",
       "      <td>43</td>\n",
       "      <td>1</td>\n",
       "      <td>1</td>\n",
       "      <td>12</td>\n",
       "      <td>хорошее</td>\n",
       "      <td>2.0</td>\n",
       "    </tr>\n",
       "    <tr>\n",
       "      <th>5</th>\n",
       "      <td>97000</td>\n",
       "      <td>1276</td>\n",
       "      <td>76</td>\n",
       "      <td>2</td>\n",
       "      <td>10</td>\n",
       "      <td>12</td>\n",
       "      <td>евроремонт</td>\n",
       "      <td>4.0</td>\n",
       "    </tr>\n",
       "  </tbody>\n",
       "</table>\n",
       "</div>"
      ],
      "text/plain": [
       "    price  m2_price  square rooms  floor  floors              condition  \\\n",
       "0  110880       720     154     4     12      14  под самоотделку (ПСО)   \n",
       "1   57000       740      77     2      5      12  под самоотделку (ПСО)   \n",
       "2   57750       750      77     2      5      12  под самоотделку (ПСО)   \n",
       "4   55000      1279      43     1      1      12                хорошее   \n",
       "5   97000      1276      76     2     10      12             евроремонт   \n",
       "\n",
       "   condition_encoded  \n",
       "0                3.0  \n",
       "1                3.0  \n",
       "2                3.0  \n",
       "4                2.0  \n",
       "5                4.0  "
      ]
     },
     "execution_count": 116,
     "metadata": {},
     "output_type": "execute_result"
    }
   ],
   "source": [
    "data = data[~data['condition'].isin([\"не достроено\", \"требует ремонта\", \"черновая отделка\", \"свободная планировка\"])]\n",
    "\n",
    "encoding = {'среднее': 1, 'хорошее': 2, 'под самоотделку (ПСО)': 3, 'евроремонт': 4}\n",
    "data['condition_encoded'] = data['condition'].map(encoding)\n",
    "data.head(5)"
   ]
  },
  {
   "cell_type": "markdown",
   "metadata": {},
   "source": [
    "Now we can deal with the missing values. Unless the dataset is big itself /9000 rows/, I would not like to delete this big chunk of information. We can use some smart imputation.\n",
    "\n",
    "Missing values in the «condition» column are 25% of the dataset. We are going to imput the values according to their natural distribution in the dataset: first, we'll calculate the probabilities of each «level» of condition to appear in the dataset; then we imput this values in this 25% rows with missing values accordingly with calculated probabilities.\n",
    "\n",
    "At the end, we encode the imputated rows again."
   ]
  },
  {
   "cell_type": "code",
   "execution_count": 117,
   "metadata": {},
   "outputs": [
    {
     "name": "stdout",
     "output_type": "stream",
     "text": [
      "condition\n",
      "евроремонт               0.343099\n",
      "хорошее                  0.287681\n",
      "под самоотделку (ПСО)    0.279209\n",
      "среднее                  0.090011\n",
      "Name: proportion, dtype: float64\n"
     ]
    },
    {
     "data": {
      "text/html": [
       "<div>\n",
       "<style scoped>\n",
       "    .dataframe tbody tr th:only-of-type {\n",
       "        vertical-align: middle;\n",
       "    }\n",
       "\n",
       "    .dataframe tbody tr th {\n",
       "        vertical-align: top;\n",
       "    }\n",
       "\n",
       "    .dataframe thead th {\n",
       "        text-align: right;\n",
       "    }\n",
       "</style>\n",
       "<table border=\"1\" class=\"dataframe\">\n",
       "  <thead>\n",
       "    <tr style=\"text-align: right;\">\n",
       "      <th></th>\n",
       "      <th>price</th>\n",
       "      <th>m2_price</th>\n",
       "      <th>square</th>\n",
       "      <th>rooms</th>\n",
       "      <th>floor</th>\n",
       "      <th>floors</th>\n",
       "      <th>condition</th>\n",
       "      <th>condition_encoded</th>\n",
       "    </tr>\n",
       "  </thead>\n",
       "  <tbody>\n",
       "    <tr>\n",
       "      <th>0</th>\n",
       "      <td>110880</td>\n",
       "      <td>720</td>\n",
       "      <td>154</td>\n",
       "      <td>4</td>\n",
       "      <td>12</td>\n",
       "      <td>14</td>\n",
       "      <td>под самоотделку (ПСО)</td>\n",
       "      <td>3</td>\n",
       "    </tr>\n",
       "    <tr>\n",
       "      <th>1</th>\n",
       "      <td>57000</td>\n",
       "      <td>740</td>\n",
       "      <td>77</td>\n",
       "      <td>2</td>\n",
       "      <td>5</td>\n",
       "      <td>12</td>\n",
       "      <td>под самоотделку (ПСО)</td>\n",
       "      <td>3</td>\n",
       "    </tr>\n",
       "    <tr>\n",
       "      <th>2</th>\n",
       "      <td>57750</td>\n",
       "      <td>750</td>\n",
       "      <td>77</td>\n",
       "      <td>2</td>\n",
       "      <td>5</td>\n",
       "      <td>12</td>\n",
       "      <td>под самоотделку (ПСО)</td>\n",
       "      <td>3</td>\n",
       "    </tr>\n",
       "    <tr>\n",
       "      <th>4</th>\n",
       "      <td>55000</td>\n",
       "      <td>1279</td>\n",
       "      <td>43</td>\n",
       "      <td>1</td>\n",
       "      <td>1</td>\n",
       "      <td>12</td>\n",
       "      <td>хорошее</td>\n",
       "      <td>2</td>\n",
       "    </tr>\n",
       "    <tr>\n",
       "      <th>5</th>\n",
       "      <td>97000</td>\n",
       "      <td>1276</td>\n",
       "      <td>76</td>\n",
       "      <td>2</td>\n",
       "      <td>10</td>\n",
       "      <td>12</td>\n",
       "      <td>евроремонт</td>\n",
       "      <td>4</td>\n",
       "    </tr>\n",
       "  </tbody>\n",
       "</table>\n",
       "</div>"
      ],
      "text/plain": [
       "    price  m2_price  square rooms  floor  floors              condition  \\\n",
       "0  110880       720     154     4     12      14  под самоотделку (ПСО)   \n",
       "1   57000       740      77     2      5      12  под самоотделку (ПСО)   \n",
       "2   57750       750      77     2      5      12  под самоотделку (ПСО)   \n",
       "4   55000      1279      43     1      1      12                хорошее   \n",
       "5   97000      1276      76     2     10      12             евроремонт   \n",
       "\n",
       "   condition_encoded  \n",
       "0                  3  \n",
       "1                  3  \n",
       "2                  3  \n",
       "4                  2  \n",
       "5                  4  "
      ]
     },
     "execution_count": 117,
     "metadata": {},
     "output_type": "execute_result"
    }
   ],
   "source": [
    "probabilities = data['condition'].value_counts(normalize = True)\n",
    "print(probabilities)\n",
    "data['condition'] = data['condition'].apply(lambda x: np.random.choice(probabilities.index, p=probabilities.values) if pd.isna(x) else x)\n",
    "data['condition_encoded'] = data['condition'].map(encoding)\n",
    "\n",
    "data.isna().sum()\n",
    "data.head(5)"
   ]
  },
  {
   "cell_type": "markdown",
   "metadata": {},
   "source": [
    "Now the data is reprocessed. Further manipulations with it should be done with the consideration of the machine learning model that is going to be used. That's why we do not dive into normalization yet."
   ]
  }
 ],
 "metadata": {
  "kernelspec": {
   "display_name": "Python 3",
   "language": "python",
   "name": "python3"
  },
  "language_info": {
   "codemirror_mode": {
    "name": "ipython",
    "version": 3
   },
   "file_extension": ".py",
   "mimetype": "text/x-python",
   "name": "python",
   "nbconvert_exporter": "python",
   "pygments_lexer": "ipython3",
   "version": "3.12.6"
  }
 },
 "nbformat": 4,
 "nbformat_minor": 2
}
